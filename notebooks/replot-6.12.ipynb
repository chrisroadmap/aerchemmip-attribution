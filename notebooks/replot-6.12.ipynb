{
 "cells": [
  {
   "cell_type": "code",
   "execution_count": null,
   "id": "6308d403-be8b-4051-8e44-97182fcf0b73",
   "metadata": {},
   "outputs": [],
   "source": [
    "import matplotlib.pyplot as pl\n",
    "import numpy as np\n",
    "import pandas as pd\n",
    "import os"
   ]
  },
  {
   "cell_type": "code",
   "execution_count": null,
   "id": "5d037370-7cfd-4f1e-a27d-c81ae696e8ca",
   "metadata": {},
   "outputs": [],
   "source": [
    "pl.style.use(\"../defaults.mplstyle\")"
   ]
  },
  {
   "cell_type": "markdown",
   "id": "cc02c7b0-c317-4fa5-a889-e49521865ae6",
   "metadata": {},
   "source": [
    "Source data is from Sara Marie Blichner. This would also be available from the BADC, but at time of putting together this workflow it was down.\n",
    "\n",
    "The data was downloaded from:\n",
    "\n",
    "https://github.com/sarambl/AR6_CH6_RCMIPFIGS/tree/master/ar6_ch6_rcmipfigs/results/fig6_12_ts15"
   ]
  },
  {
   "cell_type": "code",
   "execution_count": null,
   "id": "4c708752-ab82-44ab-8f65-490e3cbd0f77",
   "metadata": {},
   "outputs": [],
   "source": [
    "df_tempbest = pd.read_csv('../data/fig_em_based_ERF_GSAT_period_1750-2019_values_dT.csv', index_col=0, header=42, skipfooter=1, engine='python')\n",
    "df_tempunc = pd.read_csv('../data/fig_em_based_ERF_GSAT_period_1750-2019_values_dT_uncertainty.csv', index_col=0, header=27, skipfooter=1, engine='python')"
   ]
  },
  {
   "cell_type": "code",
   "execution_count": null,
   "id": "d5ae0393-b723-419d-863a-b531593bae57",
   "metadata": {},
   "outputs": [],
   "source": [
    "df_tempbest = df_tempbest.rename(\n",
    "    columns={\n",
    "        \"CO2\": \"CO$_2$\",\n",
    "        \"N2O\": \"N$_2$O\",\n",
    "        \"HC\": \"HC\",\n",
    "        \"HFCs\": \"HFCs\",\n",
    "        \"CH4_lifetime\": \"CH$_4$\",\n",
    "        \"O3\": \"O$_3$\",\n",
    "        \"Strat_H2O\": \"Strat. H$_2$O\",\n",
    "        \"Aerosol\": \"Aerosol-radiation\",\n",
    "        \"Cloud\": \"Aerosol-cloud\",\n",
    "    }\n",
    ")"
   ]
  },
  {
   "cell_type": "code",
   "execution_count": null,
   "id": "8d2547be-9769-4a73-8def-3cf834a10fd6",
   "metadata": {},
   "outputs": [],
   "source": [
    "df_tempbest"
   ]
  },
  {
   "cell_type": "code",
   "execution_count": null,
   "id": "2a62f95f-2062-4eea-8dd3-e43040a58792",
   "metadata": {},
   "outputs": [],
   "source": [
    "df_tempunc"
   ]
  },
  {
   "cell_type": "code",
   "execution_count": null,
   "id": "a419fc2b-c1dc-4f21-8d9d-ddcc0b5decc3",
   "metadata": {},
   "outputs": [],
   "source": [
    "df_tempbest.plot.bar(stacked=True)"
   ]
  },
  {
   "cell_type": "code",
   "execution_count": null,
   "id": "3932561b-9509-49b8-a698-1be6d0cc8031",
   "metadata": {},
   "outputs": [],
   "source": [
    "colors = {\n",
    "    'CO2': (244/255, 203/255, 54/255),\n",
    "    'N2O': (211/255, 0/255, 40/255),\n",
    "    'HC': (122/255, 129/255, 129/255),\n",
    "    'HFCs': (55/255, 126/255, 184/255),\n",
    "    'CH4_lifetime': (255/255, 107/255, 19/255),\n",
    "    'O3': (134/255, 199/255, 75/255),\n",
    "    'Strat_H2O': (183/255, 194/255, 194/255),\n",
    "    'Aerosol': (202/255, 178/255, 214/255),\n",
    "    'Cloud': (143/255, 0/255, 165/255)\n",
    "}"
   ]
  },
  {
   "cell_type": "code",
   "execution_count": null,
   "id": "261287cb-37e2-4ee4-94eb-1aeb9bfa9908",
   "metadata": {},
   "outputs": [],
   "source": [
    "index_order = df_tempbest.index\n",
    "index_order"
   ]
  },
  {
   "cell_type": "code",
   "execution_count": null,
   "id": "b2856643-b546-4052-9382-55f33cf263be",
   "metadata": {},
   "outputs": [],
   "source": [
    "labels = {\n",
    "    'CO2': 'CO$_2$',\n",
    "    'ch4': 'CH$_4$',\n",
    "    'n2o': 'N$_2$O',\n",
    "    'HC': 'HC',\n",
    "    'NOx': 'NOx',\n",
    "    'VOC': 'VOC',\n",
    "    'SO2': 'SO$_2$',\n",
    "    'OC': 'OC',\n",
    "    'BC': 'BC',\n",
    "    'NH3': 'NH$_3$',\n",
    "}"
   ]
  },
  {
   "cell_type": "code",
   "execution_count": null,
   "id": "e084e7d4-32ce-4aa7-b4c2-728f195bfe19",
   "metadata": {},
   "outputs": [],
   "source": [
    "col_ls = [colors[c] for c in colors]"
   ]
  },
  {
   "cell_type": "code",
   "execution_count": null,
   "id": "d02280f2-a026-497a-bdf2-3b9a65cb8e4c",
   "metadata": {},
   "outputs": [],
   "source": [
    "ybar = np.arange(len(df_tempbest.T) + 1)"
   ]
  },
  {
   "cell_type": "code",
   "execution_count": null,
   "id": "0190288e-926c-433e-b04a-312ab50d9dee",
   "metadata": {},
   "outputs": [],
   "source": [
    "fig, ax = pl.subplots(figsize=(12/2.54, 12/2.54))\n",
    "kws = {\n",
    "    'width': .8,\n",
    "    'linewidth': .1,\n",
    "    'edgecolor': 'k',\n",
    "}\n",
    "\n",
    "df_tempbest.reindex(index_order).plot.bar(stacked=True, color=col_ls, ax=ax, **kws)\n",
    "ax.bar(0, df_tempbest.loc[\"CO2\", \"CO$_2$\"], color=\"None\", hatch='///', **kws)\n",
    "ax.set_xticklabels('');\n",
    "tot = df_tempbest.reindex(index_order).sum(axis=1)\n",
    "x = np.arange(len(tot))\n",
    "yerr_dT = df_tempunc[['p50-05', 'p95-50']].reindex(index_order).transpose().values\n",
    "ax.errorbar(\n",
    "    x,\n",
    "    tot,\n",
    "    yerr=yerr_dT,\n",
    "    marker='d',\n",
    "    linestyle='None',\n",
    "    color='k',\n",
    "    label='Sum',#\n",
    ")\n",
    "# ax.legend(frameon=False)\n",
    "ax.set_xlabel('Emitted specie')\n",
    "\n",
    "ax.set_title('Attributed temperature change from emissions, 1750 to 2019')\n",
    "ax.set_ylabel(r'$^{\\circ}$C')\n",
    "ax.set_ylim(-1, 1.6)\n",
    "\n",
    "ax.axhline(0, color='k', lw=0.2)\n",
    "\n",
    "ax.legend(loc='upper right', frameon=False, title=r\"Forcing agent\", ncol=2)\n",
    "\n",
    "for lab, x in zip(index_order, ybar):\n",
    "    ax.text(x, -1.0, labels[lab], ha='center')  # , va='left')\n",
    "\n",
    "os.makedirs('../plots/', exist_ok=True)\n",
    "\n",
    "\n",
    "fig.tight_layout()\n",
    "pl.savefig('../plots/attribution.png')\n",
    "pl.savefig('../plots/attribution.pdf')"
   ]
  },
  {
   "cell_type": "code",
   "execution_count": null,
   "id": "e455ccba-fe72-49d0-a87b-e86039b13dcb",
   "metadata": {},
   "outputs": [],
   "source": []
  }
 ],
 "metadata": {
  "kernelspec": {
   "display_name": "Python 3 (ipykernel)",
   "language": "python",
   "name": "python3"
  },
  "language_info": {
   "codemirror_mode": {
    "name": "ipython",
    "version": 3
   },
   "file_extension": ".py",
   "mimetype": "text/x-python",
   "name": "python",
   "nbconvert_exporter": "python",
   "pygments_lexer": "ipython3",
   "version": "3.11.6"
  }
 },
 "nbformat": 4,
 "nbformat_minor": 5
}
